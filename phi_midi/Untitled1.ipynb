{
 "cells": [
  {
   "cell_type": "code",
   "execution_count": null,
   "id": "8cbceaa2-16e3-45e9-a52f-161fd0e60e6e",
   "metadata": {},
   "outputs": [],
   "source": [
    "from phi_midi import *\n",
    "# import numpy as np \n",
    "import math as math\n",
    "\n",
    "mf = new_midi()\n",
    "\n",
    "voices = set_new_track(mf, name='voices')\n",
    "voices.append(Message('control_change', control =  0, value = 1, channel = 0, time = 1233))\n",
    "voices.append(Message('control_change', control = 32, value = 0, channel = 0, time = 1233))\n",
    "voices.append(Message('program_change', program = 0,             channel = 0, time = 1234))\n",
    "\n",
    "set_note(voices, 72, duration=480)\n",
    "set_note(voices, 72, duration=480)\n",
    "set_note(voices, 72, duration=480)\n",
    "set_note(voices, 72, duration=480)\n"
   ]
  }
 ],
 "metadata": {
  "kernelspec": {
   "display_name": "Python 3 (ipykernel)",
   "language": "python",
   "name": "python3"
  },
  "language_info": {
   "codemirror_mode": {
    "name": "ipython",
    "version": 3
   },
   "file_extension": ".py",
   "mimetype": "text/x-python",
   "name": "python",
   "nbconvert_exporter": "python",
   "pygments_lexer": "ipython3",
   "version": "3.9.7"
  }
 },
 "nbformat": 4,
 "nbformat_minor": 5
}

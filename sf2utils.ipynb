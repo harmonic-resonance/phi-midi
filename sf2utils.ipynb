{
 "cells": [
  {
   "cell_type": "code",
   "execution_count": 1,
   "id": "32ac609c-636f-4011-ac85-bd6b324a35f8",
   "metadata": {},
   "outputs": [
    {
     "name": "stdout",
     "output_type": "stream",
     "text": [
      "Collecting sf2utils\n",
      "  Downloading sf2utils-0.9.0-py2.py3-none-any.whl (20 kB)\n",
      "Installing collected packages: sf2utils\n",
      "Successfully installed sf2utils-0.9.0\n"
     ]
    }
   ],
   "source": [
    "!pip install sf2utils"
   ]
  },
  {
   "cell_type": "code",
   "execution_count": 2,
   "id": "4c91066f-626f-4da3-b851-954e38e90208",
   "metadata": {},
   "outputs": [],
   "source": [
    "import sf2utils as sf"
   ]
  },
  {
   "cell_type": "code",
   "execution_count": 4,
   "id": "5ebb486d-c764-4875-bd90-0fe209209f02",
   "metadata": {},
   "outputs": [
    {
     "ename": "AttributeError",
     "evalue": "module 'sf2utils' has no attribute 'sf2_parse'",
     "output_type": "error",
     "traceback": [
      "\u001b[0;31m---------------------------------------------------------------------------\u001b[0m",
      "\u001b[0;31mAttributeError\u001b[0m                            Traceback (most recent call last)",
      "\u001b[0;32m/tmp/ipykernel_30143/2349607077.py\u001b[0m in \u001b[0;36m<module>\u001b[0;34m\u001b[0m\n\u001b[0;32m----> 1\u001b[0;31m \u001b[0msf\u001b[0m\u001b[0;34m.\u001b[0m\u001b[0msf2_parse\u001b[0m\u001b[0;34m\u001b[0m\u001b[0;34m\u001b[0m\u001b[0m\n\u001b[0m",
      "\u001b[0;31mAttributeError\u001b[0m: module 'sf2utils' has no attribute 'sf2_parse'"
     ]
    }
   ],
   "source": [
    "sf.sf2_parse"
   ]
  },
  {
   "cell_type": "code",
   "execution_count": 7,
   "id": "1e4458bb-9005-43d3-ae6d-7bfa933da4f2",
   "metadata": {},
   "outputs": [],
   "source": [
    "from sf2utils.sf2parse import Sf2File\n",
    "with open('KBH_Real_and_Swell_Choir.sf2', 'rb') as sf2_file:\n",
    "    sf2 = Sf2File(sf2_file)"
   ]
  },
  {
   "cell_type": "code",
   "execution_count": 13,
   "id": "ddc26074-a1d7-4b4d-b742-198e8c213628",
   "metadata": {},
   "outputs": [
    {
     "data": {
      "text/plain": [
       "'Comments Not Present'"
      ]
     },
     "execution_count": 13,
     "metadata": {},
     "output_type": "execute_result"
    }
   ],
   "source": [
    "sf2."
   ]
  },
  {
   "cell_type": "code",
   "execution_count": null,
   "id": "96f92af8-353c-466e-a002-a7ee2e859c5f",
   "metadata": {},
   "outputs": [],
   "source": []
  }
 ],
 "metadata": {
  "kernelspec": {
   "display_name": "Python 3 (ipykernel)",
   "language": "python",
   "name": "python3"
  },
  "language_info": {
   "codemirror_mode": {
    "name": "ipython",
    "version": 3
   },
   "file_extension": ".py",
   "mimetype": "text/x-python",
   "name": "python",
   "nbconvert_exporter": "python",
   "pygments_lexer": "ipython3",
   "version": "3.9.5"
  }
 },
 "nbformat": 4,
 "nbformat_minor": 5
}

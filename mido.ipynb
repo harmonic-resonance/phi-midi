{
 "cells": [
  {
   "cell_type": "code",
   "execution_count": null,
   "id": "81df8eda-b3e6-45f1-a42e-de92936e7722",
   "metadata": {},
   "outputs": [],
   "source": [
    "import mido\n",
    "mido?"
   ]
  },
  {
   "cell_type": "code",
   "execution_count": null,
   "id": "e196dfa8-84d4-4b63-868e-c5d6463fac9e",
   "metadata": {},
   "outputs": [],
   "source": [
    "mido.Message??"
   ]
  },
  {
   "cell_type": "code",
   "execution_count": null,
   "id": "b91dc1bd-8dcd-456d-84b9-4a1aac633b39",
   "metadata": {},
   "outputs": [],
   "source": []
  }
 ],
 "metadata": {
  "kernelspec": {
   "display_name": "Python 3 (ipykernel)",
   "language": "python",
   "name": "python3"
  },
  "language_info": {
   "codemirror_mode": {
    "name": "ipython",
    "version": 3
   },
   "file_extension": ".py",
   "mimetype": "text/x-python",
   "name": "python",
   "nbconvert_exporter": "python",
   "pygments_lexer": "ipython3",
   "version": "3.9.7"
  }
 },
 "nbformat": 4,
 "nbformat_minor": 5
}

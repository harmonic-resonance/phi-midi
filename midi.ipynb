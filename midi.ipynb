{
 "cells": [
  {
   "cell_type": "code",
   "execution_count": 3,
   "id": "f2f82a90-fa2b-4e02-a008-3f1f453526c2",
   "metadata": {},
   "outputs": [],
   "source": [
    "import time\n",
    "import rtmidi\n",
    "\n",
    "midiout = rtmidi.MidiOut()\n",
    "available_ports = midiout.get_ports()\n",
    "\n",
    "# if available_ports:\n",
    "#     midiout.open_port(0)\n",
    "# else:\n",
    "#     midiout.open_virtual_port(\"My virtual output\")\n",
    "\n",
    "midiout = rtmidi.MidiOut()\n",
    "with midiout:\n",
    "    note_on = [0x90, 60, 112] # channel 1, middle C, velocity 112\n",
    "    note_off = [0x80, 60, 0]\n",
    "    midiout.send_message(note_on)\n",
    "    time.sleep(0.5)\n",
    "    midiout.send_message(note_off)\n",
    "    time.sleep(0.1)\n",
    "\n",
    "# del midiout"
   ]
  },
  {
   "cell_type": "code",
   "execution_count": 13,
   "id": "7b5caf56-2397-44d8-9609-0fc9a2022328",
   "metadata": {},
   "outputs": [
    {
     "name": "stdout",
     "output_type": "stream",
     "text": [
      "Using port TiMidity:TiMidity port 0 131:0\n"
     ]
    }
   ],
   "source": [
    "midiout = rtmidi.MidiOut()\n",
    "with midiout:\n",
    "    midiout.open_port(1)\n",
    "    print(\"Using port %s\" % midiout.get_ports()[1])\n",
    "    note_on = [0x90, 60, 112] # channel 1, middle C, velocity 112\n",
    "    note_off = [0x80, 60, 0]\n",
    "    midiout.send_message(note_on)\n",
    "    time.sleep(1)\n",
    "    midiout.send_message(note_off)\n",
    "    time.sleep(1)\n",
    "del midiout"
   ]
  },
  {
   "cell_type": "code",
   "execution_count": 1,
   "id": "bd4f8984-bbe9-41fc-945c-7db4f489cef2",
   "metadata": {},
   "outputs": [],
   "source": [
    "from mido import Message, MidiFile, MidiTrack\n",
    "\n",
    "mid = MidiFile()\n",
    "\n",
    "track = mid.add_track(name='vibes')\n",
    "track.append(Message('program_change', program=11, time=0))\n",
    "for i in range(4):\n",
    "    track.append(Message('control_change', control=10, value=0, time=0))\n",
    "    track.append(Message('note_on', note=60, velocity=64, time=0))\n",
    "    track.append(Message('note_off', note=60, velocity=127, time=960))\n",
    "    track.append(Message('control_change', control=10, value=127, time=0))\n",
    "    track.append(Message('note_on', note=64, velocity=80, time=0))\n",
    "    track.append(Message('note_off', note=64, velocity=127, time=960))\n",
    "    track.append(Message('control_change', control=10, value=0, time=0))\n",
    "    track.append(Message('note_on', note=72, velocity=120, time=0))\n",
    "    track.append(Message('note_off', note=72, velocity=127, time=1440))\n",
    "\n",
    "track.append(Message('note_on', note=0, velocity=0, time=0))\n",
    "track.append(Message('note_off', note=0, velocity=127, time=1920))\n",
    "\n",
    "track2 = MidiTrack()\n",
    "mid.tracks.append(track2)\n",
    "\n",
    "track2.append(Message('program_change', channel=2, program=61, time=0))\n",
    "track2.append(Message('note_on', note=60, channel=2, velocity=48, time=960))\n",
    "track2.append(Message('note_on', note=67, channel=2, velocity=64, time=0))\n",
    "track2.append(Message('note_off', note=60, channel=2, velocity=20, time=1920))\n",
    "track2.append(Message('note_off', note=67, channel=2, velocity=20, time=0))\n",
    "track2.append(Message('note_on', note=67, channel=2, velocity=82, time=0))\n",
    "track2.append(Message('note_off', note=67, channel=2, velocity=20, time=1920))\n",
    "\n",
    "track2.append(Message('control_change', channel=2, control=93, value=127, time=0))\n",
    "\n",
    "track2.append(Message('note_on', note=60, channel=2, velocity=64, time=0))\n",
    "track2.append(Message('note_on', note=67, channel=2, velocity=64, time=480))\n",
    "track2.append(Message('note_off', note=60, channel=2, velocity=20, time=1920))\n",
    "track2.append(Message('note_off', note=67, channel=2, velocity=20, time=480))\n",
    "track2.append(Message('note_on', note=67, channel=2, velocity=64, time=0))\n",
    "track2.append(Message('note_off', note=67, channel=2, velocity=20, time=1920))\n",
    "\n",
    "\n",
    "track2.append(Message('note_on', note=0, channel=2, velocity=64, time=960))\n",
    "track2.append(Message('note_off', note=0, channel=2, velocity=20, time=960))\n",
    "\n",
    "drums = MidiTrack()\n",
    "mid.tracks.append(drums)\n",
    "\n",
    "# drums.append(Message('program_change', program=11, time=0))\n",
    "drums.append(Message('note_on', note=35, channel=9, velocity=127, time=1920))\n",
    "drums.append(Message('note_off', note=35, channel=9, velocity=127, time=480))\n",
    "drums.append(Message('note_on', note=35, channel=9, velocity=64, time=0))\n",
    "drums.append(Message('note_off', note=35, channel=9, velocity=127, time=480))\n",
    "drums.append(Message('note_on', note=35, channel=9, velocity=64, time=0))\n",
    "drums.append(Message('note_off', note=35, channel=9, velocity=127, time=480))\n",
    "drums.append(Message('note_on', note=35, channel=9, velocity=64, time=0))\n",
    "drums.append(Message('note_off', note=35, channel=9, velocity=127, time=480))\n",
    "drums.append(Message('note_on', note=35, channel=9, velocity=127, time=0))\n",
    "drums.append(Message('note_off', note=35, channel=9, velocity=127, time=480))\n",
    "drums.append(Message('note_on', note=35, channel=9, velocity=64, time=0))\n",
    "drums.append(Message('note_off', note=35, channel=9, velocity=127, time=480))\n",
    "drums.append(Message('note_on', note=35, channel=9, velocity=64, time=0))\n",
    "drums.append(Message('note_off', note=35, channel=9, velocity=127, time=480))\n",
    "drums.append(Message('note_on', note=35, channel=9, velocity=64, time=0))\n",
    "drums.append(Message('note_off', note=35, channel=9, velocity=127, time=480))\n",
    "\n",
    "mid.save('new_song.mid')"
   ]
  },
  {
   "cell_type": "code",
   "execution_count": 1,
   "id": "cb831e39-ec4b-46ce-b06b-60ee0ac46b34",
   "metadata": {},
   "outputs": [
    {
     "name": "stdout",
     "output_type": "stream",
     "text": [
      "pygame 2.1.2 (SDL 2.0.16, Python 3.9.7)\n",
      "Hello from the pygame community. https://www.pygame.org/contribute.html\n"
     ]
    }
   ],
   "source": [
    "import pygame\n",
    "pygame.init()\n",
    "\n",
    "\n",
    "\n",
    "pygame.mixer.music.load(\"new_song.mid\")\n",
    "pygame.mixer.music.play()"
   ]
  },
  {
   "cell_type": "code",
   "execution_count": 4,
   "id": "08961a55-adc2-41f4-81da-76a1a466761e",
   "metadata": {},
   "outputs": [
    {
     "data": {
      "text/plain": [
       "''"
      ]
     },
     "execution_count": 4,
     "metadata": {},
     "output_type": "execute_result"
    }
   ],
   "source": [
    "track.name"
   ]
  },
  {
   "cell_type": "code",
   "execution_count": null,
   "id": "38b41e90-b16b-44e7-b2f5-65b0f2c07c6f",
   "metadata": {},
   "outputs": [],
   "source": [
    "\n"
   ]
  }
 ],
 "metadata": {
  "kernelspec": {
   "display_name": "Python 3 (ipykernel)",
   "language": "python",
   "name": "python3"
  },
  "language_info": {
   "codemirror_mode": {
    "name": "ipython",
    "version": 3
   },
   "file_extension": ".py",
   "mimetype": "text/x-python",
   "name": "python",
   "nbconvert_exporter": "python",
   "pygments_lexer": "ipython3",
   "version": "3.9.7"
  }
 },
 "nbformat": 4,
 "nbformat_minor": 5
}

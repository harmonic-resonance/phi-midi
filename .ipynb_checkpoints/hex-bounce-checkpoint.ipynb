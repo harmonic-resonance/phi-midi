{
 "cells": [
  {
   "cell_type": "code",
   "execution_count": null,
   "id": "93ba7602-7460-412c-a682-80a68808fe6a",
   "metadata": {},
   "outputs": [
    {
     "name": "stdout",
     "output_type": "stream",
     "text": [
      "Using port TiMidity:TiMidity port 0 130:0\n"
     ]
    }
   ],
   "source": [
    "'''\n",
    "https://gist.githubusercontent.com/aib/2083288c45b68107454ffb03e977423f/raw/abd21d314fff8b0ab56429ea83dec9e257ff50d6/ppm.py\n",
    "'''\n",
    "import math\n",
    "import pygame\n",
    "import random\n",
    "import rtmidi\n",
    "from rtmidi.midiconstants import *\n",
    "import time\n",
    "from timeit import default_timer as timer\n",
    "\n",
    "TAU = 2 * math.pi\n",
    "\n",
    "class Object(object):\n",
    "    pass\n",
    "\n",
    "SIZE = (640, 480)\n",
    "\n",
    "lines = []\n",
    "ball = Object()\n",
    "#notes = [61, 63, 66, 68, 70] # pentatonic\n",
    "#notes = [60, 64, 67, 70, 72, 74]\n",
    "#notes = [60, 62, 64, 66, 68, 70, 72] # whole tone\n",
    "#notes = [49, 51, 54, 56, 58, 61, 63, 66, 68, 70, 73, 75, 78, 80, 82] # triple penta\n",
    "#notes = [40, 45, 50, 55, 59, 64] # guitar\n",
    "notes = [40, 45, 50, 55, 59, 64] # guitar\n",
    "#notes = [40, 47, 52, 55, 59, 64] # mi minor chord, inst 25\n",
    "#notes = [40, 45, 52, 57, 60, 64] # la minor, inst 25\n",
    "# notes = [38, 45, 50, 57, 62, 65] # re minor compat\n",
    "# notes = map(lambda n: n-3, [45, 50, 57, 62, 65])\n",
    "#notes = map(lambda n: n-12, [61, 82, 63, 84, 66, 68, 70])\n",
    "#notes = map(lambda n: n-24, [61, 63, 66, 68, 70]) # pentatonic\n",
    "random.shuffle(notes)\n",
    "initial_speed = 480\n",
    "mo = rtmidi.MidiOut()\n",
    "\n",
    "\n",
    "def create():\n",
    "\tglobal lines\n",
    "\txcenter = SIZE[0] / 2\n",
    "\tycenter = SIZE[1] / 2\n",
    "\tN = len(notes)\n",
    "\tfor i in range(N):\n",
    "\t\tir = i * TAU\n",
    "\t\tr = 100\n",
    "\t\tlines.append((\n",
    "\t\t\t(xcenter + r * math.cos(i * (TAU/N)), ycenter + r * math.sin(i * (TAU/N))),\n",
    "\t\t\t(xcenter + r * math.cos((i+1) * (TAU/N)), ycenter + r * math.sin((i+1) * (TAU/N)))\n",
    "\t\t))\n",
    "\tball.pos = (xcenter, ycenter)\n",
    "\td = random.random() * TAU\n",
    "\tball.vel = mul(initial_speed, (math.cos(d), math.sin(d)))\n",
    "\n",
    "def update(dt):\n",
    "\tglobal ball\n",
    "\tsbefore = [side(ball.pos, line) for line in lines]\n",
    "\tnewpos = (ball.pos[0] + ball.vel[0]*dt, ball.pos[1] + ball.vel[1]*dt)\n",
    "\tsafter = [side(newpos, line) for line in lines]\n",
    "\n",
    "\tfor i in range(len(sbefore)):\n",
    "\t\tif sbefore[i] != safter[i]:\n",
    "\t\t\tline = lines[i]\n",
    "\t\t\tball.vel = reflect(ball.vel, normal(line))\n",
    "\t\t\tmo.send_message([NOTE_ON, notes[i], 127])\n",
    "\t\t\tbreak\n",
    "\n",
    "\tball.pos = (ball.pos[0] + ball.vel[0]*dt, ball.pos[1] + ball.vel[1]*dt)\n",
    "\n",
    "def mul(n, v):\n",
    "\treturn (n*v[0], n*v[1])\n",
    "\n",
    "def side(point, line):\n",
    "\ts = ((line[1][0] - line[0][0]) * (point[1] - line[0][1]) - (line[1][1] - line[0][1]) * (point[0] - line[0][0]))\n",
    "\tif s > 0:\n",
    "\t\treturn 1\n",
    "\telif s < 0:\n",
    "\t\treturn -1\n",
    "\telse:\n",
    "\t\treturn 0\n",
    "\n",
    "def normal(line):\n",
    "\tdx = line[1][0] - line[0][0]\n",
    "\tdy = line[1][1] - line[0][1]\n",
    "\treturn norm((-dy, dx))\n",
    "\n",
    "def norm(v):\n",
    "\tmag = math.sqrt(v[0]*v[0] + v[1]*v[1])\n",
    "\treturn (v[0]/mag, v[1]/mag)\n",
    "\n",
    "def dot(v1, v2):\n",
    "\treturn (v1[0]*v2[0] + v1[1]*v2[1])\n",
    "\n",
    "def reflect(d, n):\n",
    "\tm = 2 * dot(d, n)\n",
    "\trx = d[0] - m * n[0]\n",
    "\try = d[1] - m * n[1]\n",
    "\treturn (rx, ry)\n",
    "\n",
    "def main():\n",
    "\tmo.open_port(1)\n",
    "\tprint(\"Using port %s\" % mo.get_ports()[1])\n",
    "\n",
    "\tcreate()\n",
    "\tpygame.display.init()\n",
    "\tpygame.display.set_mode((640, 480))\n",
    "\n",
    "\tlast_frame_time = timer()\n",
    "\twhile True:\n",
    "\t\tcur_frame_time = timer()\n",
    "\t\tdt = cur_frame_time - last_frame_time\n",
    "\t\tupdate(dt)\n",
    "\t\tlast_frame_time = cur_frame_time\n",
    "\n",
    "\t\tsurf = pygame.display.get_surface()\n",
    "\t\tsurf.fill((0, 0, 0))\n",
    "\t\tfor l in lines:\n",
    "\t\t\tpygame.draw.line(surf, (255, 0, 0), l[0], l[1], 5)\n",
    "#\t\t\tpygame.draw.line(surf, (0, 255, 0), l[0], (l[0][0] + normal(l)[0] * 50, l[0][1] + normal(l)[1] * 50))\n",
    "\t\tpygame.draw.circle(surf, (0, 0, 255), (int(ball.pos[0]), int(ball.pos[1])), 5)\n",
    "\n",
    "\t\tpygame.display.flip()\n",
    "\n",
    "main()\n"
   ]
  },
  {
   "cell_type": "code",
   "execution_count": 1,
   "id": "6032c5a9-0554-49c1-94cf-eeb0f7779fe4",
   "metadata": {},
   "outputs": [],
   "source": [
    "import rtmidi.midiconstants  as mdc"
   ]
  },
  {
   "cell_type": "code",
   "execution_count": 4,
   "id": "20937f81-9a95-4ee2-a0a6-69574d070d2c",
   "metadata": {},
   "outputs": [
    {
     "data": {
      "text/plain": [
       "128"
      ]
     },
     "execution_count": 4,
     "metadata": {},
     "output_type": "execute_result"
    }
   ],
   "source": [
    "mdc.NOTE_OFF"
   ]
  },
  {
   "cell_type": "code",
   "execution_count": null,
   "id": "90333035-5b2c-450d-93f7-4b04d0a60229",
   "metadata": {},
   "outputs": [],
   "source": []
  }
 ],
 "metadata": {
  "kernelspec": {
   "display_name": "Python 3 (ipykernel)",
   "language": "python",
   "name": "python3"
  },
  "language_info": {
   "codemirror_mode": {
    "name": "ipython",
    "version": 3
   },
   "file_extension": ".py",
   "mimetype": "text/x-python",
   "name": "python",
   "nbconvert_exporter": "python",
   "pygments_lexer": "ipython3",
   "version": "3.9.7"
  }
 },
 "nbformat": 4,
 "nbformat_minor": 5
}

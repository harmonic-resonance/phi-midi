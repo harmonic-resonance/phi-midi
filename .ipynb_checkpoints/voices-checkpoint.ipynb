{
 "cells": [
  {
   "cell_type": "code",
   "execution_count": 3,
   "id": "8cbceaa2-16e3-45e9-a52f-161fd0e60e6e",
   "metadata": {},
   "outputs": [
    {
     "ename": "ModuleNotFoundError",
     "evalue": "No module named 'phi_midi'",
     "output_type": "error",
     "traceback": [
      "\u001b[0;31m---------------------------------------------------------------------------\u001b[0m",
      "\u001b[0;31mModuleNotFoundError\u001b[0m                       Traceback (most recent call last)",
      "\u001b[0;32m/tmp/ipykernel_65844/3044423849.py\u001b[0m in \u001b[0;36m<module>\u001b[0;34m\u001b[0m\n\u001b[0;32m----> 1\u001b[0;31m \u001b[0;32mfrom\u001b[0m \u001b[0mphi_midi\u001b[0m \u001b[0;32mimport\u001b[0m \u001b[0;34m*\u001b[0m\u001b[0;34m\u001b[0m\u001b[0;34m\u001b[0m\u001b[0m\n\u001b[0m\u001b[1;32m      2\u001b[0m \u001b[0;31m# import numpy as np\u001b[0m\u001b[0;34m\u001b[0m\u001b[0;34m\u001b[0m\u001b[0m\n\u001b[1;32m      3\u001b[0m \u001b[0;32mimport\u001b[0m \u001b[0mmath\u001b[0m \u001b[0;32mas\u001b[0m \u001b[0mmath\u001b[0m\u001b[0;34m\u001b[0m\u001b[0;34m\u001b[0m\u001b[0m\n\u001b[1;32m      4\u001b[0m \u001b[0;34m\u001b[0m\u001b[0m\n\u001b[1;32m      5\u001b[0m \u001b[0mmf\u001b[0m \u001b[0;34m=\u001b[0m \u001b[0mnew_midi\u001b[0m\u001b[0;34m(\u001b[0m\u001b[0;34m)\u001b[0m\u001b[0;34m\u001b[0m\u001b[0;34m\u001b[0m\u001b[0m\n",
      "\u001b[0;31mModuleNotFoundError\u001b[0m: No module named 'phi_midi'"
     ]
    }
   ],
   "source": [
    "from phi_midi import *\n",
    "# import numpy as np \n",
    "import math as math\n",
    "\n",
    "mf = new_midi()\n",
    "\n",
    "voices = set_new_track(mf, name='voices')\n",
    "voices.append(Message('control_change', control =  0, value = 1, channel = 0, time = 1233))\n",
    "voices.append(Message('control_change', control = 32, value = 0, channel = 0, time = 1233))\n",
    "voices.append(Message('program_change', program = 0,             channel = 0, time = 1234))\n",
    "\n",
    "set_note(voices, 72, duration=480)\n",
    "set_note(voices, 72, duration=480)\n",
    "set_note(voices, 72, duration=480)\n",
    "set_note(voices, 72, duration=480)\n",
    "\n",
    "mf.save(voices.mid)\n",
    "\n",
    "!timidity -c timidity.cfg voices.mid"
   ]
  },
  {
   "cell_type": "code",
   "execution_count": null,
   "id": "954d054b-101c-44f9-8d2f-a20903779ab4",
   "metadata": {},
   "outputs": [],
   "source": []
  }
 ],
 "metadata": {
  "kernelspec": {
   "display_name": "Python 3 (ipykernel)",
   "language": "python",
   "name": "python3"
  },
  "language_info": {
   "codemirror_mode": {
    "name": "ipython",
    "version": 3
   },
   "file_extension": ".py",
   "mimetype": "text/x-python",
   "name": "python",
   "nbconvert_exporter": "python",
   "pygments_lexer": "ipython3",
   "version": "3.9.7"
  }
 },
 "nbformat": 4,
 "nbformat_minor": 5
}

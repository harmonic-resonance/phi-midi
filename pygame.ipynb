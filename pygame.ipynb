{
 "cells": [
  {
   "cell_type": "code",
   "execution_count": 3,
   "id": "5e799c2c-e87e-4410-9049-98b623c61c7c",
   "metadata": {},
   "outputs": [],
   "source": [
    "\"\"\"\n",
    " Python MIDI Graphic Running Program\n",
    " By Wilson Chao, May 2021.\n",
    " October 2021 remark \n",
    " For rtmidi package, you need to install python-rtmidi  \n",
    "\"\"\"\n",
    "import pygame\n",
    "import mido\n",
    "import rtmidi\n",
    "pygame.init()\n",
    "BLACK = [  0,   0,   0]\n",
    "WHITE = [255, 255, 255]\n",
    "note_list = []\n",
    "note_list_off = []\n",
    "outport=mido.open_output()\n",
    "inport=mido.open_input()\n",
    "SIZE = [380, 380]\n",
    "screen = pygame.display.set_mode(SIZE)\n",
    "pygame.display.set_caption(\"Python MIDI Program by Wilson Chao\")\n",
    "clock = pygame.time.Clock()\n",
    "done = False\n",
    "while done == False:\n",
    "    for event in pygame.event.get():\n",
    "        if event.type == pygame.QUIT:\n",
    "            done=True\n",
    "    for msg in inport.iter_pending():\n",
    "        n = msg.note\n",
    "        x=(n-47)*10 \n",
    "        if msg.velocity>0: \n",
    "            msg = mido.Message('note_on', note=n)\n",
    "            outport.send(msg)\n",
    "            note_list.append([x, 0])\n",
    "        else:       \n",
    "            msg = mido.Message('note_off', note=n)\n",
    "            outport.send(msg)\n",
    "            note_list_off.append([x, 0])           \n",
    "    for i in range(len(note_list)):\n",
    "        pygame.draw.circle(screen, WHITE, note_list[i], 10)\n",
    "        note_list[i][1] += 1\n",
    "    pygame.display.flip()\n",
    "    for i in range(len(note_list_off)):\n",
    "        pygame.draw.circle(screen, BLACK, note_list_off[i], 10)\n",
    "        note_list_off[i][1] += 1   \n",
    "    clock.tick(200)\n",
    "pygame.quit ()"
   ]
  },
  {
   "cell_type": "code",
   "execution_count": null,
   "id": "5225e5c9-74e7-423c-90ef-411e4df97631",
   "metadata": {},
   "outputs": [],
   "source": []
  }
 ],
 "metadata": {
  "kernelspec": {
   "display_name": "Python 3 (ipykernel)",
   "language": "python",
   "name": "python3"
  },
  "language_info": {
   "codemirror_mode": {
    "name": "ipython",
    "version": 3
   },
   "file_extension": ".py",
   "mimetype": "text/x-python",
   "name": "python",
   "nbconvert_exporter": "python",
   "pygments_lexer": "ipython3",
   "version": "3.9.7"
  }
 },
 "nbformat": 4,
 "nbformat_minor": 5
}

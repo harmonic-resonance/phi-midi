{
 "cells": [
  {
   "cell_type": "code",
   "execution_count": 4,
   "id": "58a8583d-1920-4a7c-a88f-3b1c3f9a1deb",
   "metadata": {},
   "outputs": [],
   "source": [
    "from phi_midi import *\n",
    "\n",
    "from mido import MetaMessage\n",
    "\n",
    "def new_midi(title = '', ):\n",
    "    mf = MidiFile()\n",
    "\n",
    "    track = mf.add_track(name='meta')\n",
    "    if title:\n",
    "        track.append(MetaMessage('text', text='TITLE', time=0))\n",
    "    return mf\n",
    "\n",
    "mf = new_midi(title='TITLE')\n",
    "mf"
   ]
  },
  {
   "cell_type": "markdown",
   "id": "822bfac1-ea72-4b2c-856f-db071e15c372",
   "metadata": {},
   "source": [
    "mf"
   ]
  },
  {
   "cell_type": "code",
   "execution_count": 19,
   "id": "2d236b42-874f-4870-a93c-4d2282b91cd7",
   "metadata": {},
   "outputs": [
    {
     "name": "stdout",
     "output_type": "stream",
     "text": [
      "=== Track 0\n",
      "MetaMessage('track_name', name='meta', time=0)\n",
      "MetaMessage('text', text='TITLE', time=0)\n"
     ]
    }
   ],
   "source": [
    "mf.clip"
   ]
  },
  {
   "cell_type": "code",
   "execution_count": null,
   "id": "1dc54e11-d11b-4ba4-bcc2-c682475b3777",
   "metadata": {},
   "outputs": [],
   "source": []
  }
 ],
 "metadata": {
  "kernelspec": {
   "display_name": "Python 3 (ipykernel)",
   "language": "python",
   "name": "python3"
  },
  "language_info": {
   "codemirror_mode": {
    "name": "ipython",
    "version": 3
   },
   "file_extension": ".py",
   "mimetype": "text/x-python",
   "name": "python",
   "nbconvert_exporter": "python",
   "pygments_lexer": "ipython3",
   "version": "3.9.7"
  }
 },
 "nbformat": 4,
 "nbformat_minor": 5
}

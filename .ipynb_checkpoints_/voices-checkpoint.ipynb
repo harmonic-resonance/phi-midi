{
 "cells": [
  {
   "cell_type": "markdown",
   "id": "2ecceb88-db6d-4983-9d9e-cb63fc71d273",
   "metadata": {},
   "source": [
    "# voices\n",
    "\n",
    "voices are contained in the KBH_Real_and_Swell_Choir.sf2 soundfont\n",
    "\n",
    "timidity requires `voices.cfg` file to establish voices on bank 1\n",
    "\n"
   ]
  },
  {
   "cell_type": "code",
   "execution_count": 1,
   "id": "8cbceaa2-16e3-45e9-a52f-161fd0e60e6e",
   "metadata": {},
   "outputs": [
    {
     "ename": "NameError",
     "evalue": "name 'pm' is not defined",
     "output_type": "error",
     "traceback": [
      "\u001b[0;31m---------------------------------------------------------------------------\u001b[0m",
      "\u001b[0;31mNameError\u001b[0m                                 Traceback (most recent call last)",
      "\u001b[0;32m/tmp/ipykernel_500961/2336942194.py\u001b[0m in \u001b[0;36m<module>\u001b[0;34m\u001b[0m\n\u001b[1;32m      5\u001b[0m \u001b[0;34m\u001b[0m\u001b[0m\n\u001b[1;32m      6\u001b[0m \u001b[0;34m\u001b[0m\u001b[0m\n\u001b[0;32m----> 7\u001b[0;31m \u001b[0mv1\u001b[0m \u001b[0;34m=\u001b[0m \u001b[0mpm\u001b[0m\u001b[0;34m.\u001b[0m\u001b[0madd_voice_track\u001b[0m\u001b[0;34m(\u001b[0m\u001b[0mmf\u001b[0m\u001b[0;34m,\u001b[0m \u001b[0mname\u001b[0m\u001b[0;34m=\u001b[0m\u001b[0;34m'Solo Ooh'\u001b[0m\u001b[0;34m)\u001b[0m\u001b[0;34m\u001b[0m\u001b[0;34m\u001b[0m\u001b[0m\n\u001b[0m\u001b[1;32m      8\u001b[0m \u001b[0mv2\u001b[0m \u001b[0;34m=\u001b[0m \u001b[0mpm\u001b[0m\u001b[0;34m.\u001b[0m\u001b[0madd_voice_track\u001b[0m\u001b[0;34m(\u001b[0m\u001b[0mmf\u001b[0m\u001b[0;34m,\u001b[0m \u001b[0mname\u001b[0m\u001b[0;34m=\u001b[0m\u001b[0;34m'Solo Aah'\u001b[0m\u001b[0;34m)\u001b[0m\u001b[0;34m\u001b[0m\u001b[0;34m\u001b[0m\u001b[0m\n\u001b[1;32m      9\u001b[0m \u001b[0;34m\u001b[0m\u001b[0m\n",
      "\u001b[0;32m~/Projects/phi-midi/phi_midi/voices.py\u001b[0m in \u001b[0;36madd_voice_track\u001b[0;34m(mf, name)\u001b[0m\n\u001b[1;32m     10\u001b[0m \u001b[0;34m\u001b[0m\u001b[0m\n\u001b[1;32m     11\u001b[0m \u001b[0;32mdef\u001b[0m \u001b[0madd_voice_track\u001b[0m\u001b[0;34m(\u001b[0m\u001b[0mmf\u001b[0m\u001b[0;34m,\u001b[0m \u001b[0mname\u001b[0m\u001b[0;34m=\u001b[0m\u001b[0;34m'Mixed Choir'\u001b[0m\u001b[0;34m)\u001b[0m\u001b[0;34m:\u001b[0m\u001b[0;34m\u001b[0m\u001b[0;34m\u001b[0m\u001b[0m\n\u001b[0;32m---> 12\u001b[0;31m     \u001b[0mtrack\u001b[0m \u001b[0;34m=\u001b[0m \u001b[0mpm\u001b[0m\u001b[0;34m.\u001b[0m\u001b[0mset_new_track\u001b[0m\u001b[0;34m(\u001b[0m\u001b[0mmf\u001b[0m\u001b[0;34m,\u001b[0m \u001b[0mname\u001b[0m\u001b[0;34m=\u001b[0m\u001b[0mname\u001b[0m\u001b[0;34m)\u001b[0m\u001b[0;34m\u001b[0m\u001b[0;34m\u001b[0m\u001b[0m\n\u001b[0m\u001b[1;32m     13\u001b[0m     \u001b[0mv\u001b[0m \u001b[0;34m=\u001b[0m \u001b[0mVOICES\u001b[0m\u001b[0;34m[\u001b[0m\u001b[0mname\u001b[0m\u001b[0;34m]\u001b[0m\u001b[0;34m\u001b[0m\u001b[0;34m\u001b[0m\u001b[0m\n\u001b[1;32m     14\u001b[0m \u001b[0;34m\u001b[0m\u001b[0m\n",
      "\u001b[0;31mNameError\u001b[0m: name 'pm' is not defined"
     ]
    }
   ],
   "source": [
    "import phi_midi as pm\n",
    "\n",
    "mf = pm.new_midi()\n",
    "\n",
    "   \n",
    "\n",
    "v1 = pm.add_voice_track(mf, name='Solo Ooh')\n",
    "v2 = pm.add_voice_track(mf, name='Solo Aah')\n",
    "\n",
    "pm.add_voice_note(v1, 72, duration=1920)\n",
    "pm.add_voice_note(v1, 70, duration=1920)\n",
    "\n",
    "pm.add_voice_chord(v1, 60, duration=1920*2, chord=pm.CHORDS['Major7'])\n",
    "\n",
    "pm.add_voice_note(v2, 0, duration=1920*3)\n",
    "pm.add_voice_note(v2, 72, duration=1920)\n",
    "pm.add_voice_chord(v2, 60, duration=1920*2, chord=pm.CHORDS['Sus2'])\n",
    "pm.add_voice_note(v2, 69, duration=1920)\n",
    "\n",
    "\n",
    "mf.save('voices.mid')\n",
    "\n",
    "!timidity -c voices.cfg voices.mid"
   ]
  },
  {
   "cell_type": "code",
   "execution_count": 21,
   "id": "954d054b-101c-44f9-8d2f-a20903779ab4",
   "metadata": {},
   "outputs": [
    {
     "data": {
      "text/plain": [
       "{'bank': 1, 'subbank': 0, 'channel': 9, 'program': 0}"
      ]
     },
     "execution_count": 21,
     "metadata": {},
     "output_type": "execute_result"
    }
   ],
   "source": [
    "VOICES['Solo Ooh']"
   ]
  },
  {
   "cell_type": "code",
   "execution_count": 5,
   "id": "1815982e-9382-4b0d-8562-a20908a97262",
   "metadata": {},
   "outputs": [
    {
     "data": {
      "text/plain": [
       "'Solo Ooh'"
      ]
     },
     "execution_count": 5,
     "metadata": {},
     "output_type": "execute_result"
    }
   ],
   "source": [
    "solo_ooh.name"
   ]
  },
  {
   "cell_type": "code",
   "execution_count": null,
   "id": "1e9c6f0a-1f51-4028-97ec-8fd6a78bd20c",
   "metadata": {},
   "outputs": [],
   "source": []
  }
 ],
 "metadata": {
  "kernelspec": {
   "display_name": "Python 3 (ipykernel)",
   "language": "python",
   "name": "python3"
  },
  "language_info": {
   "codemirror_mode": {
    "name": "ipython",
    "version": 3
   },
   "file_extension": ".py",
   "mimetype": "text/x-python",
   "name": "python",
   "nbconvert_exporter": "python",
   "pygments_lexer": "ipython3",
   "version": "3.9.5"
  }
 },
 "nbformat": 4,
 "nbformat_minor": 5
}

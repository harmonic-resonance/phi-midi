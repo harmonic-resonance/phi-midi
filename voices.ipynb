{
 "cells": [
  {
   "cell_type": "code",
   "execution_count": 5,
   "id": "8cbceaa2-16e3-45e9-a52f-161fd0e60e6e",
   "metadata": {},
   "outputs": [
    {
     "name": "stdout",
     "output_type": "stream",
     "text": [
      "Playing voices.mid\n",
      "MIDI file: voices.mid\n",
      "Format: 1  Tracks: 3  Divisions: 480\n",
      "Sequence: meta\n",
      "Track name: Solo Ooh\n",
      "Track name: Solo Aah\n",
      "Playing time: ~18 seconds\n",
      "Notes cut: 0\n",
      "Notes lost totally: 0\n"
     ]
    }
   ],
   "source": [
    "import phi_midi as pm\n",
    "\n",
    "mf = pm.new_midi()\n",
    "\n",
    "VOICES = {\n",
    "    'Solo Ooh': {'bank': 1, 'subbank': 0, 'channel': 8, 'program': 0},\n",
    "    'Solo Aah': {'bank': 1, 'subbank': 0, 'channel': 10, 'program': 1},\n",
    "    'Mixed Choir': {'bank': 1, 'subbank': 0, 'channel': 11, 'program': 2},\n",
    "    'Little Swell Choir': {'bank': 1, 'subbank': 0, 'channel': 12, 'program': 3},\n",
    "    'Swell Choir': {'bank': 1, 'subbank': 0, 'channel': 13, 'program': 4},\n",
    "    'Choir Ooh': {'bank': 1, 'subbank': 0, 'channel': 14, 'program': 5},\n",
    "    'Choir Aah': {'bank': 1, 'subbank': 0, 'channel': 15, 'program': 6},\n",
    "}\n",
    "\n",
    "def add_voice_track(mf, name='Mixed Choir'):\n",
    "    track = pm.set_new_track(mf, name=name)\n",
    "    v = VOICES[name]\n",
    "    \n",
    "    track.append(pm.Message(\n",
    "        'control_change', \n",
    "        control =  0, \n",
    "        value = v['bank'], \n",
    "        channel = v['channel'], \n",
    "        time = 0\n",
    "    ))\n",
    "    track.append(pm.Message(\n",
    "        'control_change', \n",
    "        control = 32, \n",
    "        value = v['subbank'], \n",
    "        channel = v['channel'], \n",
    "        time = 0\n",
    "    ))\n",
    "    track.append(pm.Message(\n",
    "        'program_change', \n",
    "        program = v['program'],\n",
    "        channel = v['channel'], \n",
    "        time = 1))\n",
    "    return track\n",
    "\n",
    "def add_voice_note(track, note, velocity=64, duration=1920):\n",
    "    v = VOICES[track.name]\n",
    "    pm.set_note(track, note, channel=v['channel'], velocity=64, duration=duration)\n",
    "\n",
    "def add_voice_chord(track, root, chord='Major', velocity=64, duration=1920):\n",
    "    v = VOICES[track.name]\n",
    "    # pm.set_note(track, note, channel=v['channel'], duration=1920*2)\n",
    "    pm.set_chord(track, root=root, channel=v['channel'], velocity=64, duration=duration)\n",
    "    \n",
    "\n",
    "v1 = add_voice_track(mf, name='Solo Ooh')\n",
    "v2 = add_voice_track(mf, name='Solo Aah')\n",
    "\n",
    "add_voice_note(v1, 72, duration=1920)\n",
    "add_voice_note(v1, 70, duration=1920)\n",
    "\n",
    "add_voice_chord(v1, 60, duration=1920*2)\n",
    "\n",
    "add_voice_note(v2, 0, duration=1920*4)\n",
    "add_voice_note(v2, 72, duration=1920)\n",
    "add_voice_chord(v2, 60, duration=1920*2)\n",
    "\n",
    "\n",
    "mf.save('voices.mid')\n",
    "\n",
    "!timidity -c voices.cfg voices.mid"
   ]
  },
  {
   "cell_type": "code",
   "execution_count": 21,
   "id": "954d054b-101c-44f9-8d2f-a20903779ab4",
   "metadata": {},
   "outputs": [
    {
     "data": {
      "text/plain": [
       "{'bank': 1, 'subbank': 0, 'channel': 9, 'program': 0}"
      ]
     },
     "execution_count": 21,
     "metadata": {},
     "output_type": "execute_result"
    }
   ],
   "source": [
    "VOICES['Solo Ooh']"
   ]
  },
  {
   "cell_type": "code",
   "execution_count": 5,
   "id": "1815982e-9382-4b0d-8562-a20908a97262",
   "metadata": {},
   "outputs": [
    {
     "data": {
      "text/plain": [
       "'Solo Ooh'"
      ]
     },
     "execution_count": 5,
     "metadata": {},
     "output_type": "execute_result"
    }
   ],
   "source": [
    "solo_ooh.name"
   ]
  },
  {
   "cell_type": "code",
   "execution_count": null,
   "id": "1e9c6f0a-1f51-4028-97ec-8fd6a78bd20c",
   "metadata": {},
   "outputs": [],
   "source": []
  }
 ],
 "metadata": {
  "kernelspec": {
   "display_name": "Python 3 (ipykernel)",
   "language": "python",
   "name": "python3"
  },
  "language_info": {
   "codemirror_mode": {
    "name": "ipython",
    "version": 3
   },
   "file_extension": ".py",
   "mimetype": "text/x-python",
   "name": "python",
   "nbconvert_exporter": "python",
   "pygments_lexer": "ipython3",
   "version": "3.9.7"
  }
 },
 "nbformat": 4,
 "nbformat_minor": 5
}

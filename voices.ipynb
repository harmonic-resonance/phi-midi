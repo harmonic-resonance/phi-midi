{
 "cells": [
  {
   "cell_type": "code",
   "execution_count": 34,
   "id": "8cbceaa2-16e3-45e9-a52f-161fd0e60e6e",
   "metadata": {},
   "outputs": [
    {
     "name": "stdout",
     "output_type": "stream",
     "text": [
      "Playing voices.mid\n",
      "MIDI file: voices.mid\n",
      "Format: 1  Tracks: 3  Divisions: 480\n",
      "Sequence: meta\n",
      "Track name: vocal ooh\n",
      "Track name: vocal aahs\n",
      "Playing time: ~14 seconds\n",
      "Notes cut: 0\n",
      "Notes lost totally: 0\n"
     ]
    }
   ],
   "source": [
    "from phi_midi import *\n",
    "\n",
    "mf = new_midi()\n",
    "\n",
    "v_oohs = set_new_track(mf, name='vocal ooh')\n",
    "v_oohs.append(Message('control_change', control =  0, value = 1, channel = 0, time = 0))\n",
    "v_oohs.append(Message('control_change', control = 32, value = 0, channel = 0, time = 0))\n",
    "v_oohs.append(Message('program_change', program = 3,             channel = 0, time = 1))\n",
    "# v_oohs.append(Message('program_change', program = 11,             channel = 0))\n",
    "\n",
    "\n",
    "v_aahs = set_new_track(mf, name='vocal aahs')\n",
    "v_aahs.append(Message('control_change', control =  0, value = 1, channel = 1, time=0))\n",
    "v_aahs.append(Message('control_change', control = 32, value = 0, channel = 1, time=0))\n",
    "v_aahs.append(Message('program_change', program = 4,             channel = 1, time=1))\n",
    "\n",
    "set_note(v_oohs, 64, duration=1920*2)\n",
    "set_note(v_oohs, 60, duration=1920*2)\n",
    "# set_note(v_oohs, 60, duration=1920)\n",
    "# set_note(v_oohs, 72, duration=480)\n",
    "# set_note(v_oohs, 60, duration=960)\n",
    "\n",
    "set_note(v_aahs, 72, channel=1, velocity=0, duration=1920)\n",
    "set_note(v_aahs, 60, channel=1,  duration=1920*2)\n",
    "set_note(v_aahs, 67, channel=1,  duration=1920*2)\n",
    "# set_note(v_aahs, 60, duration=960)\n",
    "# set_note(v_aahs, 72, duration=480)\n",
    "# set_note(v_aahs, 60, duration=960)\n",
    "\n",
    "\n",
    "mf.save('voices.mid')\n",
    "\n",
    "!timidity -c timidity.cfg voices.mid"
   ]
  },
  {
   "cell_type": "code",
   "execution_count": null,
   "id": "954d054b-101c-44f9-8d2f-a20903779ab4",
   "metadata": {},
   "outputs": [],
   "source": [
    "voices"
   ]
  }
 ],
 "metadata": {
  "kernelspec": {
   "display_name": "Python 3 (ipykernel)",
   "language": "python",
   "name": "python3"
  },
  "language_info": {
   "codemirror_mode": {
    "name": "ipython",
    "version": 3
   },
   "file_extension": ".py",
   "mimetype": "text/x-python",
   "name": "python",
   "nbconvert_exporter": "python",
   "pygments_lexer": "ipython3",
   "version": "3.9.7"
  }
 },
 "nbformat": 4,
 "nbformat_minor": 5
}

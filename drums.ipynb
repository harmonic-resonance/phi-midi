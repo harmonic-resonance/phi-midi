{
 "cells": [
  {
   "cell_type": "code",
   "execution_count": null,
   "id": "099c4c60-3b00-4b24-9c08-10a6f62094f8",
   "metadata": {},
   "outputs": [],
   "source": [
    "PERCUSSION = {\n",
    "    'Acoustic Bass Drum': 35,\n",
    "    'Bass Drum 1', 36,\n",
    "    'Side Stick': 37,\n",
    "    'Acoustic Snare': 38,\n",
    "    'Hand Clap': 39,\n",
    "    'Electric Snare': 40,\n",
    "    'Low Floor Tom': 41,\n",
    "    'Closed Hi-Hat': 42, \n",
    "    'High Floor Tom': 43,\n",
    "    'Pedal Hi-Hat': 44,\n",
    "    'Low Tom': 45,\n",
    "    'Open Hi-Hat': 46, \n",
    "    'Low-Mid Tom': 47,\n",
    "    'Hi-Mid Tom': 48,\n",
    "    'Crash Cymbal 1': 49; \n",
    "    'High Tom': 50,\n",
    "    'Ride Cymbal 1': 51,\n",
    "    'Chinese Cymbal': 52,\n",
    "    'Ride Bell': 53,\n",
    "    'Tambourine': 54,\n",
    "    'Splash Cymbal': 55,\n",
    "    'Cowbell': 56,\n",
    "    'Crash Symbol 2': 57,\n",
    "    'Vibraslap': 58,\n",
    "    'Ride Cymbal 2': 59,\n",
    "    'Hi Bongo': 60,\n",
    "    'Low Bongo': 61,\n",
    "    'Mute Hi Conga': 62,\n",
    "    'Open Hi Conga': 63, \n",
    "    'Low Conga': 64,\n",
    "    'High Timbale': 65,\n",
    "    'Low Timbale': 66,\n",
    "    'High Agogo': 67,\n",
    "    'Low Agogo': 68,\n",
    "    'Cabasa': 69,\n",
    "    'Maracas': 70, \n",
    "    'Short Whistle': 71,\n",
    "    'Long Whistle': 72,\n",
    "    'Short Guiro': 73,\n",
    "    'Long Guiro': 74,\n",
    "    'Claves': 75,\n",
    "    'Hi Wood Block': 76,\n",
    "    'Low Wood Block': 77,\n",
    "    'Mute Cuica': 78,\n",
    "    'Open Cuica': 79,\n",
    "    'Mute Triangle': 80,\n",
    "    'Open Triangle': 81,\n",
    "    'Shaker': 82\n",
    "}"
   ]
  },
  {
   "cell_type": "code",
   "execution_count": null,
   "id": "b772b6bc-1eae-4fb6-a5f7-48429af2cdfb",
   "metadata": {},
   "outputs": [],
   "source": [
    "PERCUSSION"
   ]
  }
 ],
 "metadata": {
  "kernelspec": {
   "display_name": "Python 3 (ipykernel)",
   "language": "python",
   "name": "python3"
  },
  "language_info": {
   "codemirror_mode": {
    "name": "ipython",
    "version": 3
   },
   "file_extension": ".py",
   "mimetype": "text/x-python",
   "name": "python",
   "nbconvert_exporter": "python",
   "pygments_lexer": "ipython3",
   "version": "3.9.7"
  }
 },
 "nbformat": 4,
 "nbformat_minor": 5
}
